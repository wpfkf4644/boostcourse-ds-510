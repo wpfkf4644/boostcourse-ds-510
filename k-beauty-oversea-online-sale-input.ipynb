{
  "cells": [
    {
      "cell_type": "markdown",
      "metadata": {
        "id": "O_xPlIBso33T"
      },
      "source": [
        "[![Open In Colab](https://colab.research.google.com/assets/colab-badge.svg)](https://colab.research.google.com/github/corazzon/boostcourse-ds-510/blob/master/k-beauty-oversea-online-sale-output.ipynb)\n",
        "\n",
        "## 국가(대륙)별/상품군별 온라인쇼핑 해외직접판매액\n",
        "* 국가통계포털 : http://kosis.kr/statHtml/statHtml.do?orgId=101&tblId=DT_1KE10081&vw_cd=MT_ZTITLE&list_id=JF&seqNo=&lang_mode=ko&language=kor&obj_var_id=&itm_id=&conn_path=MT_ZTITLE\n",
        "\n",
        "### K-Beauty는 성장하고 있을까? 해외 직접판매를 한다면 어느 국가로 판매전략을 세우면 좋을까?\n",
        "* K-Beauty란? [K-Beauty - Wikipedia](https://en.wikipedia.org/wiki/K-Beauty)\n",
        "* e : 추정치, p : 잠정치, - : 자료없음, ... : 미상자료, x : 비밀보호, ▽ : 시계열 불연 ( 단위 : 백만원 )"
      ]
    },
    {
      "cell_type": "markdown",
      "metadata": {
        "id": "Io43_4Byo33W"
      },
      "source": [
        "## 필요 라이브러리 가져오기"
      ]
    },
    {
      "cell_type": "code",
      "execution_count": null,
      "metadata": {
        "id": "uULWorKJo33W"
      },
      "outputs": [],
      "source": []
    },
    {
      "cell_type": "markdown",
      "metadata": {
        "id": "ZNffFGLso33X"
      },
      "source": [
        "## 한글폰트 설정\n",
        "* https://github.com/ychoi-kr/koreanize-matplotlib"
      ]
    },
    {
      "cell_type": "code",
      "execution_count": null,
      "metadata": {
        "id": "SzDDDnBAo33X"
      },
      "outputs": [],
      "source": [
        "# 한글폰트 사용을 위해 설치\n",
        "# 아래 모듈을 설치하고 불러오면 별도의 한글폰트 설정이 필요 없습니다.\n",
        "# colab 에서는 아래 모듈을 설치하고 불러와서 사용하세요.\n",
        "\n",
        "# !pip install koreanize-matplotlib\n",
        "\n",
        "# import koreanize_matplotlib"
      ]
    },
    {
      "cell_type": "code",
      "execution_count": null,
      "metadata": {
        "id": "4WINeFHHo33Y"
      },
      "outputs": [],
      "source": [
        "# os 별로 폰트를 다르게 설정해 줍니다.\n",
        "\n",
        "# 레티나 설정을 해주면 글씨가 좀 더 선명하게 보입니다.\n",
        "# 폰트의 주변이 흐릿하게 보이는 것을 방지합니다.\n",
        "%config InlineBackend.figure_format = 'retina'"
      ]
    },
    {
      "cell_type": "markdown",
      "metadata": {
        "id": "Weh1_sWho33Y"
      },
      "source": [
        "## 데이터 로드하기"
      ]
    },
    {
      "cell_type": "code",
      "execution_count": null,
      "metadata": {
        "id": "6MCWjGPOo33Y"
      },
      "outputs": [],
      "source": [
        "# %ls data"
      ]
    },
    {
      "cell_type": "code",
      "execution_count": null,
      "metadata": {
        "id": "qEQHkUfKo33Y"
      },
      "outputs": [],
      "source": [
        "from glob import glob\n",
        "\n",
        "# glob(\"data/*.csv\")"
      ]
    },
    {
      "cell_type": "code",
      "execution_count": null,
      "metadata": {
        "id": "-RyOaAUlo33Z"
      },
      "outputs": [],
      "source": [
        "# df_raw = pd.read_csv(\"data/국가_대륙_별_상품군별_온라인쇼핑_해외직접판매액_202002.csv\",\n",
        "#                      encoding=\"cp949\")\n",
        "df_raw = pd.read_csv(\"https://raw.githubusercontent.com/corazzon/boostcourse-ds-510/master/data/online_oversea_sale.csv.zip\",\n",
        "                     encoding=\"cp949\")\n",
        "df_raw.shape"
      ]
    },
    {
      "cell_type": "code",
      "execution_count": null,
      "metadata": {
        "scrolled": true,
        "id": "Rgw1VyMWo33Z"
      },
      "outputs": [],
      "source": [
        "# \"국가(대륙)별\" 데이터 빈도수 세기\n"
      ]
    },
    {
      "cell_type": "code",
      "execution_count": null,
      "metadata": {
        "id": "L_bJHdmIo33Z"
      },
      "outputs": [],
      "source": [
        "# 미국 데이터만 따로 보기\n"
      ]
    },
    {
      "cell_type": "markdown",
      "metadata": {
        "id": "zMAZGf9eo33Z"
      },
      "source": [
        "## 분석과 시각화를 위한 tidy data 만들기\n",
        "* https://pandas.pydata.org/Pandas_Cheat_Sheet.pdf"
      ]
    },
    {
      "cell_type": "code",
      "execution_count": null,
      "metadata": {
        "id": "OuY68Hp6o33Z"
      },
      "outputs": [],
      "source": []
    },
    {
      "cell_type": "markdown",
      "metadata": {
        "id": "kuVsC8NYo33a"
      },
      "source": [
        "## 데이터 전처리\n",
        "### 기간에서 연도를 분리하기"
      ]
    },
    {
      "cell_type": "code",
      "execution_count": null,
      "metadata": {
        "id": "juCz8MJQo33a"
      },
      "outputs": [],
      "source": [
        "# df[\"연도\"]"
      ]
    },
    {
      "cell_type": "code",
      "execution_count": null,
      "metadata": {
        "id": "vlxL-94wo33a"
      },
      "outputs": [],
      "source": [
        "# df[\"분기\"]"
      ]
    },
    {
      "cell_type": "markdown",
      "metadata": {
        "id": "tMRfsqIko33a"
      },
      "source": [
        "### 금액을 수치데이터로 표현하기 위해 데이터 타입 변경하기"
      ]
    },
    {
      "cell_type": "code",
      "execution_count": null,
      "metadata": {
        "scrolled": true,
        "id": "Z-HtSAlko33a"
      },
      "outputs": [],
      "source": [
        "# df[\"million\"]"
      ]
    },
    {
      "cell_type": "markdown",
      "metadata": {
        "id": "dDvD1nrDo33a"
      },
      "source": [
        "### 필요없는 데이터 제거하기"
      ]
    },
    {
      "cell_type": "code",
      "execution_count": null,
      "metadata": {
        "id": "dtbMUQcvo33a"
      },
      "outputs": [],
      "source": [
        "# 합계 데이터는 따로 구할 수 있기 때문에 전체 데이터에서 제거합니다.\n",
        "# df[\"국가(대륙)별\"] != \"합계\"\n",
        "# df[\"상품군별\"] != \"합계\"\n",
        "# df[\"판매유형별\"] != \"계\"\n"
      ]
    },
    {
      "cell_type": "code",
      "execution_count": null,
      "metadata": {
        "scrolled": true,
        "id": "Vkd7DsDxo33a"
      },
      "outputs": [],
      "source": []
    },
    {
      "cell_type": "code",
      "execution_count": null,
      "metadata": {
        "id": "FPjWOknxo33a"
      },
      "outputs": [],
      "source": []
    },
    {
      "cell_type": "markdown",
      "metadata": {
        "id": "b3aX24Wxo33a"
      },
      "source": [
        "## K-Beauty 시각화\n",
        "### 전체 상품군 판매액"
      ]
    },
    {
      "cell_type": "code",
      "execution_count": null,
      "metadata": {
        "id": "l5ilthaio33b"
      },
      "outputs": [],
      "source": [
        "plt.figure(figsize=(15, 4))\n"
      ]
    },
    {
      "cell_type": "code",
      "execution_count": null,
      "metadata": {
        "id": "E9gNW2c5o33b"
      },
      "outputs": [],
      "source": []
    },
    {
      "cell_type": "code",
      "execution_count": null,
      "metadata": {
        "id": "BOxWrcaXo33b"
      },
      "outputs": [],
      "source": [
        "# df_sub"
      ]
    },
    {
      "cell_type": "code",
      "execution_count": null,
      "metadata": {
        "id": "5KfzXI6Zo33b"
      },
      "outputs": [],
      "source": [
        "# sns.relplot\n"
      ]
    },
    {
      "cell_type": "markdown",
      "metadata": {
        "id": "YVo9FLguo33b"
      },
      "source": [
        "### 화장품의 온라인쇼핑 해외직접판매액"
      ]
    },
    {
      "cell_type": "code",
      "execution_count": null,
      "metadata": {
        "scrolled": true,
        "id": "-NFOLLiZo33b"
      },
      "outputs": [],
      "source": [
        "# df_cosmetic"
      ]
    },
    {
      "cell_type": "code",
      "execution_count": null,
      "metadata": {
        "id": "5zD4m3Ljo33b"
      },
      "outputs": [],
      "source": []
    },
    {
      "cell_type": "code",
      "execution_count": null,
      "metadata": {
        "id": "BSTRTl2ro33b"
      },
      "outputs": [],
      "source": []
    },
    {
      "cell_type": "code",
      "execution_count": null,
      "metadata": {
        "id": "q2XZdE0Io33b"
      },
      "outputs": [],
      "source": []
    },
    {
      "cell_type": "markdown",
      "metadata": {
        "id": "DhfduoAVo33b"
      },
      "source": [
        "### 의류 및 패션관련 상품 온라인쇼핑 해외직접판매액"
      ]
    },
    {
      "cell_type": "code",
      "execution_count": null,
      "metadata": {
        "id": "1SQ1YIMVo33b"
      },
      "outputs": [],
      "source": [
        "# df_fashion"
      ]
    },
    {
      "cell_type": "code",
      "execution_count": null,
      "metadata": {
        "id": "8O4HgC9jo33b"
      },
      "outputs": [],
      "source": []
    },
    {
      "cell_type": "markdown",
      "metadata": {
        "id": "qXMfuOUJo33b"
      },
      "source": [
        "### 데이터 집계하기"
      ]
    },
    {
      "cell_type": "code",
      "execution_count": null,
      "metadata": {
        "id": "80yNHjC3o33c"
      },
      "outputs": [],
      "source": []
    },
    {
      "cell_type": "markdown",
      "metadata": {
        "id": "IT3As6I9o33c"
      },
      "source": [
        "### 연산결과를 시각적으로 보기"
      ]
    },
    {
      "cell_type": "code",
      "execution_count": null,
      "metadata": {
        "id": "GYTqkbF2o33f"
      },
      "outputs": [],
      "source": []
    },
    {
      "cell_type": "markdown",
      "metadata": {
        "id": "zYgxIN5Ro33f"
      },
      "source": [
        "## 전체 상품군별로 온라인쇼핑 해외직접판매액은 증가했을까?"
      ]
    },
    {
      "cell_type": "code",
      "execution_count": null,
      "metadata": {
        "scrolled": false,
        "id": "2D1nI_vPo33f"
      },
      "outputs": [],
      "source": []
    },
    {
      "cell_type": "code",
      "execution_count": null,
      "metadata": {
        "id": "OO_nBmvYo33f"
      },
      "outputs": [],
      "source": [
        "plt.figure(figsize=(15, 4))\n"
      ]
    },
    {
      "cell_type": "markdown",
      "metadata": {
        "id": "1FcGp3Bso33f"
      },
      "source": [
        "* lengend를 그래프의 밖에 그리기 : [matplotlib - Move legend outside figure in seaborn tsplot - Stack Overflow](https://stackoverflow.com/questions/30490740/move-legend-outside-figure-in-seaborn-tsplot)"
      ]
    },
    {
      "cell_type": "code",
      "execution_count": null,
      "metadata": {
        "scrolled": true,
        "id": "GpZtwhaBo33f"
      },
      "outputs": [],
      "source": [
        "plt.figure(figsize=(15, 4))\n"
      ]
    },
    {
      "cell_type": "code",
      "execution_count": null,
      "metadata": {
        "id": "94_db9Eio33g"
      },
      "outputs": [],
      "source": []
    },
    {
      "cell_type": "code",
      "execution_count": null,
      "metadata": {
        "id": "eoQs_BNxo33g"
      },
      "outputs": [],
      "source": []
    },
    {
      "cell_type": "code",
      "execution_count": null,
      "metadata": {
        "id": "R-GxZJsxo33g"
      },
      "outputs": [],
      "source": []
    },
    {
      "cell_type": "code",
      "execution_count": null,
      "metadata": {
        "id": "-r1dl3IXo33g"
      },
      "outputs": [],
      "source": []
    }
  ],
  "metadata": {
    "kernelspec": {
      "display_name": "Python 3 (ipykernel)",
      "language": "python",
      "name": "python3"
    },
    "language_info": {
      "codemirror_mode": {
        "name": "ipython",
        "version": 3
      },
      "file_extension": ".py",
      "mimetype": "text/x-python",
      "name": "python",
      "nbconvert_exporter": "python",
      "pygments_lexer": "ipython3",
      "version": "3.7.13"
    },
    "toc": {
      "base_numbering": 1,
      "nav_menu": {},
      "number_sections": true,
      "sideBar": true,
      "skip_h1_title": false,
      "title_cell": "Table of Contents",
      "title_sidebar": "Contents",
      "toc_cell": false,
      "toc_position": {
        "height": "calc(100% - 180px)",
        "left": "10px",
        "top": "150px",
        "width": "170.667px"
      },
      "toc_section_display": true,
      "toc_window_display": true
    },
    "varInspector": {
      "cols": {
        "lenName": 16,
        "lenType": 16,
        "lenVar": 40
      },
      "kernels_config": {
        "python": {
          "delete_cmd_postfix": "",
          "delete_cmd_prefix": "del ",
          "library": "var_list.py",
          "varRefreshCmd": "print(var_dic_list())"
        },
        "r": {
          "delete_cmd_postfix": ") ",
          "delete_cmd_prefix": "rm(",
          "library": "var_list.r",
          "varRefreshCmd": "cat(var_dic_list()) "
        }
      },
      "types_to_exclude": [
        "module",
        "function",
        "builtin_function_or_method",
        "instance",
        "_Feature"
      ],
      "window_display": false
    },
    "colab": {
      "provenance": []
    }
  },
  "nbformat": 4,
  "nbformat_minor": 0
}